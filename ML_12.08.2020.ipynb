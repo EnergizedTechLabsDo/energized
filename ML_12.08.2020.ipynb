{
 "cells": [
  {
   "cell_type": "code",
   "execution_count": 51,
   "metadata": {},
   "outputs": [],
   "source": [
    "from fastai import *\n",
    "from fastai.tabular import *"
   ]
  },
  {
   "cell_type": "code",
   "execution_count": 52,
   "metadata": {},
   "outputs": [],
   "source": [
    "#%matplotlib notebook\n",
    "import pandas as pd\n",
    "import numpy as np\n",
    "import matplotlib.pyplot as plt\n",
    "import pycountry_convert as pc"
   ]
  },
  {
   "cell_type": "code",
   "execution_count": 65,
   "metadata": {},
   "outputs": [],
   "source": [
    "df=pd.read_excel('https://github.com/EnergizedTechLabsDo/energized/raw/master/All_Data_final.xlsx')"
   ]
  },
  {
   "cell_type": "code",
   "execution_count": 27,
   "metadata": {},
   "outputs": [],
   "source": [
    "#df.set_index(\"Entity\")"
   ]
  },
  {
   "cell_type": "code",
   "execution_count": 54,
   "metadata": {},
   "outputs": [
    {
     "data": {
      "text/html": [
       "<div>\n",
       "<style scoped>\n",
       "    .dataframe tbody tr th:only-of-type {\n",
       "        vertical-align: middle;\n",
       "    }\n",
       "\n",
       "    .dataframe tbody tr th {\n",
       "        vertical-align: top;\n",
       "    }\n",
       "\n",
       "    .dataframe thead th {\n",
       "        text-align: right;\n",
       "    }\n",
       "</style>\n",
       "<table border=\"1\" class=\"dataframe\">\n",
       "  <thead>\n",
       "    <tr style=\"text-align: right;\">\n",
       "      <th></th>\n",
       "      <th>Entity</th>\n",
       "      <th>Year</th>\n",
       "      <th>GDP</th>\n",
       "      <th>Coal consumption per capita</th>\n",
       "      <th>HDI</th>\n",
       "      <th>Oil consumption per capita</th>\n",
       "      <th>Hydro power production per capita</th>\n",
       "      <th>CO2e per capita</th>\n",
       "      <th>Energy use per capita</th>\n",
       "    </tr>\n",
       "  </thead>\n",
       "  <tbody>\n",
       "    <tr>\n",
       "      <th>0</th>\n",
       "      <td>Algeria</td>\n",
       "      <td>1990</td>\n",
       "      <td>9.200000e+10</td>\n",
       "      <td>0.0254</td>\n",
       "      <td>0.577</td>\n",
       "      <td>9160000</td>\n",
       "      <td>0.00046</td>\n",
       "      <td>2.99</td>\n",
       "      <td>861</td>\n",
       "    </tr>\n",
       "    <tr>\n",
       "      <th>1</th>\n",
       "      <td>Algeria</td>\n",
       "      <td>1991</td>\n",
       "      <td>9.090000e+10</td>\n",
       "      <td>0.0256</td>\n",
       "      <td>0.581</td>\n",
       "      <td>9070000</td>\n",
       "      <td>0.00097</td>\n",
       "      <td>2.99</td>\n",
       "      <td>889</td>\n",
       "    </tr>\n",
       "    <tr>\n",
       "      <th>2</th>\n",
       "      <td>Algeria</td>\n",
       "      <td>1992</td>\n",
       "      <td>9.250000e+10</td>\n",
       "      <td>0.0297</td>\n",
       "      <td>0.587</td>\n",
       "      <td>9110000</td>\n",
       "      <td>0.00064</td>\n",
       "      <td>2.96</td>\n",
       "      <td>889</td>\n",
       "    </tr>\n",
       "    <tr>\n",
       "      <th>3</th>\n",
       "      <td>Algeria</td>\n",
       "      <td>1993</td>\n",
       "      <td>9.060000e+10</td>\n",
       "      <td>0.0237</td>\n",
       "      <td>0.591</td>\n",
       "      <td>9080000</td>\n",
       "      <td>0.00112</td>\n",
       "      <td>2.97</td>\n",
       "      <td>872</td>\n",
       "    </tr>\n",
       "    <tr>\n",
       "      <th>4</th>\n",
       "      <td>Algeria</td>\n",
       "      <td>1994</td>\n",
       "      <td>8.980000e+10</td>\n",
       "      <td>0.0219</td>\n",
       "      <td>0.595</td>\n",
       "      <td>8670000</td>\n",
       "      <td>0.00051</td>\n",
       "      <td>3.06</td>\n",
       "      <td>824</td>\n",
       "    </tr>\n",
       "  </tbody>\n",
       "</table>\n",
       "</div>"
      ],
      "text/plain": [
       "    Entity  Year           GDP  Coal consumption per capita    HDI  \\\n",
       "0  Algeria  1990  9.200000e+10                       0.0254  0.577   \n",
       "1  Algeria  1991  9.090000e+10                       0.0256  0.581   \n",
       "2  Algeria  1992  9.250000e+10                       0.0297  0.587   \n",
       "3  Algeria  1993  9.060000e+10                       0.0237  0.591   \n",
       "4  Algeria  1994  8.980000e+10                       0.0219  0.595   \n",
       "\n",
       "   Oil consumption per capita  Hydro power production per capita  \\\n",
       "0                     9160000                            0.00046   \n",
       "1                     9070000                            0.00097   \n",
       "2                     9110000                            0.00064   \n",
       "3                     9080000                            0.00112   \n",
       "4                     8670000                            0.00051   \n",
       "\n",
       "   CO2e per capita  Energy use per capita  \n",
       "0             2.99                    861  \n",
       "1             2.99                    889  \n",
       "2             2.96                    889  \n",
       "3             2.97                    872  \n",
       "4             3.06                    824  "
      ]
     },
     "execution_count": 54,
     "metadata": {},
     "output_type": "execute_result"
    }
   ],
   "source": [
    "df.head()"
   ]
  },
  {
   "cell_type": "code",
   "execution_count": 119,
   "metadata": {},
   "outputs": [],
   "source": [
    "df[\"Entity\"].drop_duplicates()\n",
    "#hinzufügen von continent codes\n",
    "codes=[]\n",
    "\n",
    "for value in df[\"Entity\"]:\n",
    "    country_code = pc.country_name_to_country_alpha2(value, cn_name_format=\"default\")\n",
    "    continent_name = pc.country_alpha2_to_continent_code(country_code)\n",
    "    codes.append(continent_name)\n",
    "\n",
    "\n",
    "df[\"Continent Code\"]=codes\n",
    "df['Continent Code'].unique()\n",
    "continente=df.groupby(['Continent Code','Year'])['CO2e per capita'].mean()\n",
    "test=continente.to_frame()\n",
    "test.reset_index(inplace=True)"
   ]
  },
  {
   "cell_type": "code",
   "execution_count": 127,
   "metadata": {},
   "outputs": [],
   "source": [
    "dep_var=\"CO2e per capita\"\n",
    "cat_names=[\"Entity\",\"Continent Code\",'Year']\n",
    "cont_names=['GDP','Energy use per capita','Coal consumption per capita']#,'HDI','Oil consumption per capita','Hydro power production per capita','CO2e per capita']\n",
    "procs=[FillMissing,Categorify,Normalize]\n",
    "path = untar_data(URLs.ADULT_SAMPLE)"
   ]
  },
  {
   "cell_type": "code",
   "execution_count": 128,
   "metadata": {},
   "outputs": [],
   "source": [
    "df = df.astype({'CO2e per capita':'float'})"
   ]
  },
  {
   "cell_type": "code",
   "execution_count": 129,
   "metadata": {},
   "outputs": [],
   "source": [
    "test = TabularList.from_df(df.iloc[480:960].copy(), path=path, cat_names=cat_names, cont_names=cont_names)"
   ]
  },
  {
   "cell_type": "code",
   "execution_count": 130,
   "metadata": {},
   "outputs": [],
   "source": [
    "data = (TabularList.from_df(df, path=path, cat_names=cat_names, cont_names=cont_names, procs=procs)\n",
    "                           .split_by_idx(list(range(480,960)))\n",
    "                           .label_from_df(cols=dep_var)\n",
    "                           .add_test(test)\n",
    "                           .databunch())"
   ]
  },
  {
   "cell_type": "code",
   "execution_count": 131,
   "metadata": {},
   "outputs": [
    {
     "data": {
      "text/html": [
       "<table border=\"1\" class=\"dataframe\">\n",
       "  <thead>\n",
       "    <tr style=\"text-align: right;\">\n",
       "      <th>Entity</th>\n",
       "      <th>Continent Code</th>\n",
       "      <th>Year</th>\n",
       "      <th>GDP</th>\n",
       "      <th>Energy use per capita</th>\n",
       "      <th>Coal consumption per capita</th>\n",
       "      <th>target</th>\n",
       "    </tr>\n",
       "  </thead>\n",
       "  <tbody>\n",
       "    <tr>\n",
       "      <td>Algeria</td>\n",
       "      <td>AF</td>\n",
       "      <td>2012</td>\n",
       "      <td>-0.2808</td>\n",
       "      <td>-0.6839</td>\n",
       "      <td>-0.7706</td>\n",
       "      <td>3.48</td>\n",
       "    </tr>\n",
       "    <tr>\n",
       "      <td>Turkmenistan</td>\n",
       "      <td>AS</td>\n",
       "      <td>2001</td>\n",
       "      <td>-0.3621</td>\n",
       "      <td>-0.4019</td>\n",
       "      <td>-0.6901</td>\n",
       "      <td>8.34</td>\n",
       "    </tr>\n",
       "    <tr>\n",
       "      <td>Saudi Arabia</td>\n",
       "      <td>AS</td>\n",
       "      <td>2004</td>\n",
       "      <td>-0.1468</td>\n",
       "      <td>0.5267</td>\n",
       "      <td>-0.7820</td>\n",
       "      <td>17.1</td>\n",
       "    </tr>\n",
       "    <tr>\n",
       "      <td>Slovak Republic</td>\n",
       "      <td>EU</td>\n",
       "      <td>2007</td>\n",
       "      <td>-0.3245</td>\n",
       "      <td>-0.0433</td>\n",
       "      <td>0.3984</td>\n",
       "      <td>6.81</td>\n",
       "    </tr>\n",
       "    <tr>\n",
       "      <td>Argentina</td>\n",
       "      <td>SA</td>\n",
       "      <td>1991</td>\n",
       "      <td>-0.2555</td>\n",
       "      <td>-0.6195</td>\n",
       "      <td>-0.7478</td>\n",
       "      <td>3.54</td>\n",
       "    </tr>\n",
       "    <tr>\n",
       "      <td>United Kingdom</td>\n",
       "      <td>EU</td>\n",
       "      <td>1997</td>\n",
       "      <td>0.5881</td>\n",
       "      <td>0.0915</td>\n",
       "      <td>0.2979</td>\n",
       "      <td>9.04</td>\n",
       "    </tr>\n",
       "    <tr>\n",
       "      <td>Azerbaijan</td>\n",
       "      <td>AS</td>\n",
       "      <td>2010</td>\n",
       "      <td>-0.3410</td>\n",
       "      <td>-0.6686</td>\n",
       "      <td>-0.7829</td>\n",
       "      <td>3.4</td>\n",
       "    </tr>\n",
       "    <tr>\n",
       "      <td>Portugal</td>\n",
       "      <td>EU</td>\n",
       "      <td>1991</td>\n",
       "      <td>-0.2798</td>\n",
       "      <td>-0.5399</td>\n",
       "      <td>-0.3063</td>\n",
       "      <td>4.44</td>\n",
       "    </tr>\n",
       "    <tr>\n",
       "      <td>Belgium</td>\n",
       "      <td>EU</td>\n",
       "      <td>2003</td>\n",
       "      <td>-0.1543</td>\n",
       "      <td>0.6524</td>\n",
       "      <td>0.1369</td>\n",
       "      <td>10.8</td>\n",
       "    </tr>\n",
       "    <tr>\n",
       "      <td>Czech Republic</td>\n",
       "      <td>EU</td>\n",
       "      <td>2000</td>\n",
       "      <td>-0.2909</td>\n",
       "      <td>0.1620</td>\n",
       "      <td>2.5651</td>\n",
       "      <td>12.0</td>\n",
       "    </tr>\n",
       "  </tbody>\n",
       "</table>"
      ],
      "text/plain": [
       "<IPython.core.display.HTML object>"
      ]
     },
     "metadata": {},
     "output_type": "display_data"
    }
   ],
   "source": [
    "data.show_batch(rows=10)"
   ]
  },
  {
   "cell_type": "code",
   "execution_count": 132,
   "metadata": {},
   "outputs": [],
   "source": [
    "learn = tabular_learner(data, layers=[200,100], metrics=root_mean_squared_error)"
   ]
  },
  {
   "cell_type": "code",
   "execution_count": 146,
   "metadata": {},
   "outputs": [
    {
     "data": {
      "text/html": [
       "<table border=\"1\" class=\"dataframe\">\n",
       "  <thead>\n",
       "    <tr style=\"text-align: left;\">\n",
       "      <th>epoch</th>\n",
       "      <th>train_loss</th>\n",
       "      <th>valid_loss</th>\n",
       "      <th>root_mean_squared_error</th>\n",
       "      <th>time</th>\n",
       "    </tr>\n",
       "  </thead>\n",
       "  <tbody>\n",
       "    <tr>\n",
       "      <td>0</td>\n",
       "      <td>6.516394</td>\n",
       "      <td>5.371411</td>\n",
       "      <td>2.064167</td>\n",
       "      <td>00:54</td>\n",
       "    </tr>\n",
       "    <tr>\n",
       "      <td>1</td>\n",
       "      <td>5.237906</td>\n",
       "      <td>5.944119</td>\n",
       "      <td>2.110373</td>\n",
       "      <td>00:48</td>\n",
       "    </tr>\n",
       "    <tr>\n",
       "      <td>2</td>\n",
       "      <td>4.514091</td>\n",
       "      <td>5.889718</td>\n",
       "      <td>2.135516</td>\n",
       "      <td>00:47</td>\n",
       "    </tr>\n",
       "    <tr>\n",
       "      <td>3</td>\n",
       "      <td>4.076488</td>\n",
       "      <td>5.859489</td>\n",
       "      <td>2.120158</td>\n",
       "      <td>00:47</td>\n",
       "    </tr>\n",
       "    <tr>\n",
       "      <td>4</td>\n",
       "      <td>3.835729</td>\n",
       "      <td>5.955155</td>\n",
       "      <td>2.144763</td>\n",
       "      <td>00:48</td>\n",
       "    </tr>\n",
       "  </tbody>\n",
       "</table>"
      ],
      "text/plain": [
       "<IPython.core.display.HTML object>"
      ]
     },
     "metadata": {},
     "output_type": "display_data"
    }
   ],
   "source": [
    "learn.fit(5, 1e-3)"
   ]
  },
  {
   "cell_type": "code",
   "execution_count": 153,
   "metadata": {},
   "outputs": [],
   "source": [
    "row = df.iloc[70]"
   ]
  },
  {
   "cell_type": "code",
   "execution_count": 148,
   "metadata": {},
   "outputs": [],
   "source": [
    "#learn.lr_find()"
   ]
  },
  {
   "cell_type": "code",
   "execution_count": 149,
   "metadata": {},
   "outputs": [],
   "source": [
    "#learn.recorder.plot()"
   ]
  },
  {
   "cell_type": "code",
   "execution_count": 116,
   "metadata": {},
   "outputs": [],
   "source": [
    "#learn.fit_one_cycle(1)"
   ]
  },
  {
   "cell_type": "code",
   "execution_count": 154,
   "metadata": {},
   "outputs": [
    {
     "data": {
      "text/plain": [
       "(FloatItem [16.634792], tensor([16.6348]), tensor([16.6348]))"
      ]
     },
     "execution_count": 154,
     "metadata": {},
     "output_type": "execute_result"
    }
   ],
   "source": [
    "learn.predict(row)"
   ]
  },
  {
   "cell_type": "code",
   "execution_count": 152,
   "metadata": {},
   "outputs": [
    {
     "name": "stdout",
     "output_type": "stream",
     "text": [
      "Entity                               Australia\n",
      "Year                                      2010\n",
      "GDP                                   1.15e+12\n",
      "Coal consumption per capita               2.23\n",
      "HDI                                      0.927\n",
      "Oil consumption per capita            43700000\n",
      "Hydro power production per capita       0.0481\n",
      "CO2e per capita                           17.6\n",
      "Energy use per capita                     5790\n",
      "Continent Code                              OC\n",
      "Name: 70, dtype: object\n"
     ]
    }
   ],
   "source": [
    "print(df.iloc[70])"
   ]
  },
  {
   "cell_type": "code",
   "execution_count": null,
   "metadata": {},
   "outputs": [],
   "source": []
  }
 ],
 "metadata": {
  "kernelspec": {
   "display_name": "Python 3",
   "language": "python",
   "name": "python3"
  },
  "language_info": {
   "codemirror_mode": {
    "name": "ipython",
    "version": 3
   },
   "file_extension": ".py",
   "mimetype": "text/x-python",
   "name": "python",
   "nbconvert_exporter": "python",
   "pygments_lexer": "ipython3",
   "version": "3.6.5"
  }
 },
 "nbformat": 4,
 "nbformat_minor": 4
}
